{
 "cells": [
  {
   "cell_type": "code",
   "execution_count": 8,
   "id": "334c33f2-4108-4b7c-bf41-515380e82365",
   "metadata": {
    "scrolled": true
   },
   "outputs": [
    {
     "name": "stdout",
     "output_type": "stream",
     "text": [
      "The first person to land on the moon was Neil Armstrong. He stepped onto the moon's surface on July 21, 1969, as part of the Apollo 11 mission.\n"
     ]
    }
   ],
   "source": [
    "\n",
    "from langchain_groq import ChatGroq\n",
    "llm = ChatGroq(\n",
    "    temperature=0, \n",
    "    groq_api_key=\"groq_api_key\", \n",
    "    model_name=\"llama-3.1-70b-versatile\"\n",
    ")\n",
    "response = llm.invoke(\"The first person to land on moon was ...\")\n",
    "print(response.content)"
   ]
  },
  {
   "cell_type": "code",
   "execution_count": 10,
   "id": "4269491c-ae3e-40f5-9503-0c12fd46168b",
   "metadata": {},
   "outputs": [
    {
     "name": "stdout",
     "output_type": "stream",
     "text": [
      "Apply for Machine Learning Engineer – AI/ML (Remote Work Option)\n",
      "\n",
      "Search JobsSkip navigationSearch JobsNIKE, INC. JOBSContract JobsJoin The Talent CommunityLife @ NikeOverviewBenefitsBrandsOverviewJordanConverseTeamsOverviewAdministrative SupportAdvanced InnovationAir Manufacturing InnovationAviationCommunicationsCustomer ServiceDesignDigitalFacilitiesFinance & AccountingGovernment & Public AffairsHuman ResourcesInsights & AnalyticsLegalManufacturing & EngineeringMarketingMerchandisingPlanningPrivacyProcurementProduct Creation, Development & ManagementRetail CorporateRetail StoresSalesSocial & Community ImpactSports MarketingStrategic PlanningSupply Chain, Distribution & LogisticsSustainabilityTechnologyLocationsOverviewNike WHQNike New York HQEHQ: Hilversum, The NetherlandsELC: Laakdal, BelgiumGreater China HQDiversity, Equity & InclusionOverviewMilitary InclusionDisability InclusionIndigenous InclusionInternshipsData & AnalyticsMachine Learning Engineer – AI/ML (Remote Work Option)Beaverton, OregonBecome a Part of the NIKE, Inc. Team\n",
      "NIKE, Inc. does more than outfit the world’s best athletes. It is a place to explore potential, obliterate boundaries and push out the edges of what can be. The company looks for people who can grow, think, dream and create. Its culture thrives by embracing diversity and rewarding imagination. The brand seeks achievers, leaders and visionaries. At NIKE, Inc. it’s about each person bringing skills and passion to a challenging and constantly evolving game.Open to remote work except in South Dakota, Vermont and West Virginia.The annual base salary for this position ranges from $82,900.00 in our lowest geographic market to $185,700.00 in our highest geographic market. Actual salary will vary based on a candidate's location, qualifications, skills and experience.Information about benefits can be found here. Who are we looking forWe are actively seeking to hire multiple Machine Learning Engineers to join our AI/ML team. As a Machine Learning Engineer within the AI/ML team, you will be developing advanced analytics systems that directly impact our business. You will work on a cross-disciplinary team (data/API/infra/infosec/ML) to enable data-driven decision making across multiple organizations.Working at the intersection of machine learning and software engineering (i.e., MLOps), you’ll create high-quality solutions that power Nike. You will work with others who are energized by the challenge of building things from the ground up, thinking out of the box, and applying the latest technologies in statistical, unsupervised, supervised, and machine learning models at global scale.Our teams enjoy a collaborative and academic environment that promotes developing new skills, mentorship, and a drive to deliver knowledge and software back to analytics and engineering communities, within and Nike and without. This culture is cultivated by intellectual curiosity, fun, openness, and diversity.Sound like you?Who will you work withAI/ML is one of the key groups within Data and Analytics. We’re chartered to scale machine learning and AI at Nike. For areas of the business early in their analytics journey, we embed cross-disciplinary teams of data scientists and engineers to unlock new capabilities and answer unsolved (or unasked!) questions.In mature areas with preexisting data science teams, we help scale machine learning by attaching engineering squads to grow their capacity to deliver for the business. In addition, we collaborate closely with platform and architecture partners to develop capabilities that simplify machine learning at scale within Nike (e.g., model management, A/B testing, feature stores).Essential Job Functions:Serve as an integral member of a cross-functional engineering teams that delivers solutions unlocking machine learning for Nike. You will analyze and profile data to uncover insights in support of scalable solutions, clean, prepare and verify the integrity of data for analysis and model creation. You’ll also track model accuracy, performance, relevance, and reliability. You will apply a variety of machine learning and collaborative filtering methods to data sets. You will aid in building APIs and software libraries that support adoption of models in productionLeverage your prior experience, knowledge of industry trends, and personal creativity to develop new and innovative solutions which delight our customers in their mission to serve Athletes*.Stay current with industry trends and recommend relevant technologies & products in the areas of Analytics, Machine Learning, Artificial Intelligence, and Data Science tools and other emerging technologies. Given the rapid pace of change in technology and machine learning today, always be pushing the boundary of what’s possible and be on the offense always.Embrace and embody Nike’s core values (maxims) in your work and interactions with peers and stakeholders. Communicate effectively, building trust and strong relationships across the company, do the right thing.What you bring to NikeBachelor’s degree in a relevant field, like computer science or software engineering, or equivalent experience.Understanding of Machine Learning, its applications, and the lifecycle of an ML application in production; including an ability to articulate the role of MLOps in model development from experimentation to production and measurementAn ability to meaningfully communicate, written, orally, and visually technical topics with peers and articulate the benefits and tradeoffs of various solutionsExperience working in and/or collaborating with a partial or fully distributed teamUnderstanding of data structures, algorithms, and data solutionsExperience in applying Python (or another language commonly used in the field of ML, such as Scala, Julia, C++) and SQL to ML and/or software and data engineering tasksFamiliarity with ETL, ML, or analytics technologies such as Scikit-learn, Pandas, OpenCV, NumPy, TensorFlow, or similar platforms and frameworksAwareness of data science platforms (like Databricks or SageMaker), distributed engines (like Spark and AWS cloud), and CI/CD pipelines and containerization are preferredFluency in the application of open-source technologies and the potential of standardized platforms in the area of Data Science, AI, & ML.Nice to have: an interest in the potential of Generative AI to accelerate common development and data science tasks, or the deployment of Generative AI solutions in the enterpriseNIKE, Inc. is a growth company that looks for team members to grow with it. Nike offers a generous total rewards package, casual work environment, a diverse and inclusive culture, and an electric atmosphere for professional development. No matter the location, or the role, every Nike employee shares one galvanizing mission: To bring inspiration and innovation to every athlete* in the world.NIKE, Inc. is committed to employing a diverse workforce. Qualified applicants will receive consideration without regard to race, color, religion, sex, national origin, age, sexual orientation, gender identity, gender expression, veteran status, or disability.How We HireAt NIKE, Inc. we promise to provide a premium, inclusive, compelling and authentic candidate experience. Delivering on this promise means we allow you to be at your best — and to do that, you need to understand how the hiring process works. Transparency is key.\n",
      "\n",
      "* This overview explains our hiring process for corporate roles. Note there may be different hiring steps involved for non-corporate roles.Start nowBenefitsWhether it’s transportation or financial health, we continually invest in our employees to help them achieve greatness — inside and outside of work. All who work here should be able to realize their full potential.Employee Assistance ProgramEmployee Stock Purchase Plan (ESPP)HolidaysMedical PlanPaid Time Off (PTO)Product DiscountsSabbaticalsLearn moreFIND A STOREBECOME A MEMBERSIGN UP FOR EMAILSEND US FEEDBACKSTUDENT DISCOUNTSGET HELPGET HELPOrder StatusDeliveryReturnsPayment OptionsContact Us On Nike.com InquiriesContact Us On All Other InquiriesABOUT NIKEABOUT NIKENewsCareersInvestorsSustainabilityIndia© 2024 Nike, Inc. All Rights ReservedGuidesNike AdaptNike Air MaxNike FlyleatherNike PegasusNike Zoom FlyNike AirNike FlyEaseNike FreeNike ReactNike ZoomXNike Air Force 1Nike FlyknitNike JoyrideNike VaporflyTerms of SaleTerms of UseNike Privacy Policy\n"
     ]
    }
   ],
   "source": [
    "from langchain_community.document_loaders import WebBaseLoader\n",
    "\n",
    "loader = WebBaseLoader(\"https://jobs.nike.com/job/R-31388?from=job%20search%20funnel\")\n",
    "page_data = loader.load().pop().page_content\n",
    "print(page_data)"
   ]
  },
  {
   "cell_type": "code",
   "execution_count": 13,
   "id": "037aed74-1a4a-4784-90bf-51f95ab368f0",
   "metadata": {},
   "outputs": [
    {
     "name": "stdout",
     "output_type": "stream",
     "text": [
      "content='[\\n  {\\n    \"role\": \"Machine Learning Engineer – AI/ML\",\\n    \"experience\": null,\\n    \"skills\": [\\n      \"Machine Learning\",\\n      \"Python\",\\n      \"SQL\",\\n      \"Scikit-learn\",\\n      \"Pandas\",\\n      \"OpenCV\",\\n      \"NumPy\",\\n      \"TensorFlow\",\\n      \"Databricks\",\\n      \"SageMaker\",\\n      \"Spark\",\\n      \"AWS cloud\",\\n      \"CI/CD pipelines\",\\n      \"containerization\",\\n      \"Generative AI\"\\n    ],\\n    \"description\": \"Develop advanced analytics systems that directly impact the business. Work on a cross-disciplinary team to enable data-driven decision making across multiple organizations. Create high-quality solutions that power Nike, working at the intersection of machine learning and software engineering.\"\\n  }\\n]' response_metadata={'token_usage': {'completion_tokens': 163, 'prompt_tokens': 1816, 'total_tokens': 1979, 'completion_time': 0.652, 'prompt_time': 0.45359016, 'queue_time': 0.005739005999999991, 'total_time': 1.10559016}, 'model_name': 'llama-3.1-70b-versatile', 'system_fingerprint': 'fp_b6828be2c9', 'finish_reason': 'stop', 'logprobs': None} id='run-5250748f-a6cc-43c3-9e86-370b476da6a5-0' usage_metadata={'input_tokens': 1816, 'output_tokens': 163, 'total_tokens': 1979}\n"
     ]
    }
   ],
   "source": [
    "from langchain_core.prompts import PromptTemplate\n",
    "\n",
    "prompt_extract = PromptTemplate.from_template(\n",
    "        \"\"\"\n",
    "        ### SCRAPED TEXT FROM WEBSITE:\n",
    "        {page_data}\n",
    "        ### INSTRUCTION:\n",
    "        The scraped text is from the career's page of a website.\n",
    "        Your task is to extract job postings from the provided text\n",
    "        role: The title or name of the job position.\n",
    "        experience: The required years or level of experience for the position.\n",
    "        skills: A list of key skills or technologies required for the job.\n",
    "        description: A brief summary or description of the job role, including any important responsibilities or requirements.\n",
    "        Ensure that each JSON object captures the relevant details accurately. If any of the required information is missing or unclear in the text, leave the corresponding key empty or use null.\n",
    "        ### VALID JSON (NO PREAMBLE):    \n",
    "        \"\"\"\n",
    ")\n",
    "\n",
    "chain_extract = prompt_extract | llm \n",
    "res = chain_extract.invoke(input={'page_data':page_data})\n",
    "print(res)"
   ]
  },
  {
   "cell_type": "code",
   "execution_count": 14,
   "id": "40819ea7-41fb-4b27-897e-9950eb593693",
   "metadata": {},
   "outputs": [
    {
     "data": {
      "text/plain": [
       "[{'role': 'Machine Learning Engineer – AI/ML',\n",
       "  'experience': None,\n",
       "  'skills': ['Machine Learning',\n",
       "   'Python',\n",
       "   'SQL',\n",
       "   'Scikit-learn',\n",
       "   'Pandas',\n",
       "   'OpenCV',\n",
       "   'NumPy',\n",
       "   'TensorFlow',\n",
       "   'Databricks',\n",
       "   'SageMaker',\n",
       "   'Spark',\n",
       "   'AWS cloud',\n",
       "   'CI/CD pipelines',\n",
       "   'containerization',\n",
       "   'Generative AI'],\n",
       "  'description': 'Develop advanced analytics systems that directly impact the business. Work on a cross-disciplinary team to enable data-driven decision making across multiple organizations. Create high-quality solutions that power Nike, working at the intersection of machine learning and software engineering.'}]"
      ]
     },
     "execution_count": 14,
     "metadata": {},
     "output_type": "execute_result"
    }
   ],
   "source": [
    "from langchain_core.output_parsers import JsonOutputParser\n",
    "\n",
    "json_parser = JsonOutputParser()\n",
    "json_res = json_parser.parse(res.content)\n",
    "json_res"
   ]
  },
  {
   "cell_type": "code",
   "execution_count": 15,
   "id": "9b4e2916-2227-4e22-b537-cf084086d80e",
   "metadata": {},
   "outputs": [
    {
     "data": {
      "text/plain": [
       "list"
      ]
     },
     "execution_count": 15,
     "metadata": {},
     "output_type": "execute_result"
    }
   ],
   "source": [
    "type(json_res)"
   ]
  },
  {
   "cell_type": "code",
   "execution_count": 16,
   "id": "b9e8dfbe-e37f-4175-9240-826067903085",
   "metadata": {},
   "outputs": [
    {
     "data": {
      "text/html": [
       "<div>\n",
       "<style scoped>\n",
       "    .dataframe tbody tr th:only-of-type {\n",
       "        vertical-align: middle;\n",
       "    }\n",
       "\n",
       "    .dataframe tbody tr th {\n",
       "        vertical-align: top;\n",
       "    }\n",
       "\n",
       "    .dataframe thead th {\n",
       "        text-align: right;\n",
       "    }\n",
       "</style>\n",
       "<table border=\"1\" class=\"dataframe\">\n",
       "  <thead>\n",
       "    <tr style=\"text-align: right;\">\n",
       "      <th></th>\n",
       "      <th>Techstack</th>\n",
       "      <th>Links</th>\n",
       "    </tr>\n",
       "  </thead>\n",
       "  <tbody>\n",
       "    <tr>\n",
       "      <th>0</th>\n",
       "      <td>React, Node.js, MongoDB</td>\n",
       "      <td>https://example.com/react-portfolio</td>\n",
       "    </tr>\n",
       "    <tr>\n",
       "      <th>1</th>\n",
       "      <td>Angular,.NET, SQL Server</td>\n",
       "      <td>https://example.com/angular-portfolio</td>\n",
       "    </tr>\n",
       "    <tr>\n",
       "      <th>2</th>\n",
       "      <td>Vue.js, Ruby on Rails, PostgreSQL</td>\n",
       "      <td>https://example.com/vue-portfolio</td>\n",
       "    </tr>\n",
       "    <tr>\n",
       "      <th>3</th>\n",
       "      <td>Python, Django, MySQL</td>\n",
       "      <td>https://example.com/python-portfolio</td>\n",
       "    </tr>\n",
       "    <tr>\n",
       "      <th>4</th>\n",
       "      <td>Java, Spring Boot, Oracle</td>\n",
       "      <td>https://example.com/java-portfolio</td>\n",
       "    </tr>\n",
       "    <tr>\n",
       "      <th>5</th>\n",
       "      <td>Flutter, Firebase, GraphQL</td>\n",
       "      <td>https://example.com/flutter-portfolio</td>\n",
       "    </tr>\n",
       "    <tr>\n",
       "      <th>6</th>\n",
       "      <td>WordPress, PHP, MySQL</td>\n",
       "      <td>https://example.com/wordpress-portfolio</td>\n",
       "    </tr>\n",
       "    <tr>\n",
       "      <th>7</th>\n",
       "      <td>Magento, PHP, MySQL</td>\n",
       "      <td>https://example.com/magento-portfolio</td>\n",
       "    </tr>\n",
       "    <tr>\n",
       "      <th>8</th>\n",
       "      <td>React Native, Node.js, MongoDB</td>\n",
       "      <td>https://example.com/react-native-portfolio</td>\n",
       "    </tr>\n",
       "    <tr>\n",
       "      <th>9</th>\n",
       "      <td>iOS, Swift, Core Data</td>\n",
       "      <td>https://example.com/ios-portfolio</td>\n",
       "    </tr>\n",
       "    <tr>\n",
       "      <th>10</th>\n",
       "      <td>Android, Java, Room Persistence</td>\n",
       "      <td>https://example.com/android-portfolio</td>\n",
       "    </tr>\n",
       "    <tr>\n",
       "      <th>11</th>\n",
       "      <td>Kotlin, Android, Firebase</td>\n",
       "      <td>https://example.com/kotlin-android-portfolio</td>\n",
       "    </tr>\n",
       "    <tr>\n",
       "      <th>12</th>\n",
       "      <td>Android TV, Kotlin, Android NDK</td>\n",
       "      <td>https://example.com/android-tv-portfolio</td>\n",
       "    </tr>\n",
       "    <tr>\n",
       "      <th>13</th>\n",
       "      <td>iOS, Swift, ARKit</td>\n",
       "      <td>https://example.com/ios-ar-portfolio</td>\n",
       "    </tr>\n",
       "    <tr>\n",
       "      <th>14</th>\n",
       "      <td>Cross-platform, Xamarin, Azure</td>\n",
       "      <td>https://example.com/xamarin-portfolio</td>\n",
       "    </tr>\n",
       "    <tr>\n",
       "      <th>15</th>\n",
       "      <td>Backend, Kotlin, Spring Boot</td>\n",
       "      <td>https://example.com/kotlin-backend-portfolio</td>\n",
       "    </tr>\n",
       "    <tr>\n",
       "      <th>16</th>\n",
       "      <td>Frontend, TypeScript, Angular</td>\n",
       "      <td>https://example.com/typescript-frontend-portfolio</td>\n",
       "    </tr>\n",
       "    <tr>\n",
       "      <th>17</th>\n",
       "      <td>Full-stack, JavaScript, Express.js</td>\n",
       "      <td>https://example.com/full-stack-js-portfolio</td>\n",
       "    </tr>\n",
       "    <tr>\n",
       "      <th>18</th>\n",
       "      <td>Machine Learning, Python, TensorFlow</td>\n",
       "      <td>https://example.com/ml-python-portfolio</td>\n",
       "    </tr>\n",
       "    <tr>\n",
       "      <th>19</th>\n",
       "      <td>DevOps, Jenkins, Docker</td>\n",
       "      <td>https://example.com/devops-portfolio</td>\n",
       "    </tr>\n",
       "  </tbody>\n",
       "</table>\n",
       "</div>"
      ],
      "text/plain": [
       "                               Techstack  \\\n",
       "0                React, Node.js, MongoDB   \n",
       "1               Angular,.NET, SQL Server   \n",
       "2      Vue.js, Ruby on Rails, PostgreSQL   \n",
       "3                  Python, Django, MySQL   \n",
       "4              Java, Spring Boot, Oracle   \n",
       "5             Flutter, Firebase, GraphQL   \n",
       "6                  WordPress, PHP, MySQL   \n",
       "7                    Magento, PHP, MySQL   \n",
       "8         React Native, Node.js, MongoDB   \n",
       "9                  iOS, Swift, Core Data   \n",
       "10       Android, Java, Room Persistence   \n",
       "11             Kotlin, Android, Firebase   \n",
       "12       Android TV, Kotlin, Android NDK   \n",
       "13                     iOS, Swift, ARKit   \n",
       "14        Cross-platform, Xamarin, Azure   \n",
       "15          Backend, Kotlin, Spring Boot   \n",
       "16         Frontend, TypeScript, Angular   \n",
       "17    Full-stack, JavaScript, Express.js   \n",
       "18  Machine Learning, Python, TensorFlow   \n",
       "19               DevOps, Jenkins, Docker   \n",
       "\n",
       "                                                Links  \n",
       "0                 https://example.com/react-portfolio  \n",
       "1               https://example.com/angular-portfolio  \n",
       "2                   https://example.com/vue-portfolio  \n",
       "3                https://example.com/python-portfolio  \n",
       "4                  https://example.com/java-portfolio  \n",
       "5               https://example.com/flutter-portfolio  \n",
       "6             https://example.com/wordpress-portfolio  \n",
       "7               https://example.com/magento-portfolio  \n",
       "8          https://example.com/react-native-portfolio  \n",
       "9                   https://example.com/ios-portfolio  \n",
       "10              https://example.com/android-portfolio  \n",
       "11       https://example.com/kotlin-android-portfolio  \n",
       "12           https://example.com/android-tv-portfolio  \n",
       "13               https://example.com/ios-ar-portfolio  \n",
       "14              https://example.com/xamarin-portfolio  \n",
       "15       https://example.com/kotlin-backend-portfolio  \n",
       "16  https://example.com/typescript-frontend-portfolio  \n",
       "17        https://example.com/full-stack-js-portfolio  \n",
       "18            https://example.com/ml-python-portfolio  \n",
       "19               https://example.com/devops-portfolio  "
      ]
     },
     "execution_count": 16,
     "metadata": {},
     "output_type": "execute_result"
    }
   ],
   "source": [
    "import pandas as pd\n",
    "\n",
    "df = pd.read_csv(\"my_portfolio.csv\")\n",
    "df"
   ]
  },
  {
   "cell_type": "code",
   "execution_count": 17,
   "id": "c183ab8e-9511-44ba-b39a-bc3c7febaebd",
   "metadata": {},
   "outputs": [],
   "source": [
    "import uuid\n",
    "import chromadb\n",
    "\n",
    "client = chromadb.PersistentClient('vectorstore')\n",
    "collection = client.get_or_create_collection(name=\"portfolio\")\n",
    "\n",
    "if not collection.count():\n",
    "    for _, row in df.iterrows():\n",
    "        collection.add(documents=row[\"Techstack\"],\n",
    "                       metadatas={\"links\": row[\"Links\"]},\n",
    "                       ids=[str(uuid.uuid4())])"
   ]
  },
  {
   "cell_type": "code",
   "execution_count": 24,
   "id": "a7bd6bb7-5e7a-4161-8792-503ca9e3321a",
   "metadata": {},
   "outputs": [
    {
     "data": {
      "text/plain": [
       "[[{'links': 'https://example.com/ml-python-portfolio'},\n",
       "  {'links': 'https://example.com/python-portfolio'}],\n",
       " [{'links': 'https://example.com/react-portfolio'},\n",
       "  {'links': 'https://example.com/react-native-portfolio'}]]"
      ]
     },
     "execution_count": 24,
     "metadata": {},
     "output_type": "execute_result"
    }
   ],
   "source": [
    "links = collection.query(query_texts=['Experience in Python','Experience in React'], n_results=2).get('metadatas', [])\n",
    "links"
   ]
  },
  {
   "cell_type": "code",
   "execution_count": 21,
   "id": "2c9bd39c-144a-46a8-b5e3-4015346afb2c",
   "metadata": {},
   "outputs": [
    {
     "data": {
      "text/plain": [
       "['Machine Learning',\n",
       " 'Python',\n",
       " 'SQL',\n",
       " 'Scikit-learn',\n",
       " 'Pandas',\n",
       " 'OpenCV',\n",
       " 'NumPy',\n",
       " 'TensorFlow',\n",
       " 'Databricks',\n",
       " 'SageMaker',\n",
       " 'Spark',\n",
       " 'AWS cloud',\n",
       " 'CI/CD pipelines',\n",
       " 'containerization',\n",
       " 'Generative AI']"
      ]
     },
     "execution_count": 21,
     "metadata": {},
     "output_type": "execute_result"
    }
   ],
   "source": [
    "job = json_res\n",
    "job[0]['skills']"
   ]
  },
  {
   "cell_type": "code",
   "execution_count": 23,
   "id": "34668a4b-59ca-4297-81a9-9cd8bb18e1b5",
   "metadata": {},
   "outputs": [
    {
     "data": {
      "text/plain": [
       "[[{'links': 'https://example.com/ml-python-portfolio'}],\n",
       " [{'links': 'https://example.com/ml-python-portfolio'}],\n",
       " [{'links': 'https://example.com/magento-portfolio'}],\n",
       " [{'links': 'https://example.com/ml-python-portfolio'}],\n",
       " [{'links': 'https://example.com/ml-python-portfolio'}],\n",
       " [{'links': 'https://example.com/android-tv-portfolio'}],\n",
       " [{'links': 'https://example.com/ml-python-portfolio'}],\n",
       " [{'links': 'https://example.com/ml-python-portfolio'}],\n",
       " [{'links': 'https://example.com/flutter-portfolio'}],\n",
       " [{'links': 'https://example.com/ml-python-portfolio'}],\n",
       " [{'links': 'https://example.com/kotlin-android-portfolio'}],\n",
       " [{'links': 'https://example.com/xamarin-portfolio'}],\n",
       " [{'links': 'https://example.com/devops-portfolio'}],\n",
       " [{'links': 'https://example.com/devops-portfolio'}],\n",
       " [{'links': 'https://example.com/ml-python-portfolio'}]]"
      ]
     },
     "execution_count": 23,
     "metadata": {},
     "output_type": "execute_result"
    }
   ],
   "source": [
    "links = collection.query(query_texts=job[0]['skills'], n_results=1).get('metadatas', [])\n",
    "links"
   ]
  },
  {
   "cell_type": "code",
   "execution_count": 26,
   "id": "65f9b6d2-7340-4686-822b-fb43cf4ad8d9",
   "metadata": {},
   "outputs": [
    {
     "name": "stdout",
     "output_type": "stream",
     "text": [
      "Subject: Expert Machine Learning Solutions for Nike's Advanced Analytics Systems\n",
      "\n",
      "Dear Hiring Manager,\n",
      "\n",
      "I came across the Machine Learning Engineer – AI/ML role at Nike and was impressed by the opportunity to develop advanced analytics systems that drive business impact. As a Business Development Executive at Optisol, I'd like to introduce our company as a potential partner in fulfilling your machine learning needs.\n",
      "\n",
      "At Optisol, we specialize in AI & Software Consulting, empowering enterprises with tailored solutions that foster scalability, process optimization, cost reduction, and heightened overall efficiency. Our team of experts has extensive experience in developing high-quality solutions that integrate machine learning and software engineering.\n",
      "\n",
      "Our capabilities align with the skills required for the Machine Learning Engineer role, including:\n",
      "\n",
      "* Machine Learning: We have expertise in developing and deploying machine learning models using popular libraries like Scikit-learn, TensorFlow, and PyTorch.\n",
      "* Python: Our team is well-versed in Python and has experience with popular libraries like Pandas, NumPy, and OpenCV.\n",
      "* Cloud and Containerization: We have experience with AWS cloud, Databricks, SageMaker, and containerization using Docker.\n",
      "* CI/CD Pipelines: Our team is familiar with implementing CI/CD pipelines to ensure seamless deployment and integration of machine learning models.\n",
      "\n",
      "To showcase our expertise in machine learning and Python, I'd like to share some relevant portfolio links:\n",
      "\n",
      "* https://example.com/ml-python-portfolio\n",
      "* https://example.com/python-portfolio\n",
      "\n",
      "These links demonstrate our ability to develop and deploy machine learning models using Python and popular libraries.\n",
      "\n",
      "We believe that our expertise and experience make us an ideal partner for Nike's machine learning needs. I'd be happy to schedule a call to discuss how Optisol can support your team in developing advanced analytics systems.\n",
      "\n",
      "Please let me know if you're interested in exploring this opportunity further.\n",
      "\n",
      "Best regards,\n",
      "\n",
      "Mohan\n",
      "Business Development Executive\n",
      "Optisol\n"
     ]
    }
   ],
   "source": [
    "prompt_email = PromptTemplate.from_template(\n",
    "        \"\"\"\n",
    "        ### JOB DESCRIPTION:\n",
    "        {job_description}\n",
    "        \n",
    "        ### INSTRUCTION:\n",
    "        You are Mohan, a business development executive at Optisol. Optisol is an AI & Software Consulting company dedicated to facilitating\n",
    "        the seamless integration of business processes through automated tools. \n",
    "        Over our experience, we have empowered numerous enterprises with tailored solutions, fostering scalability, \n",
    "        process optimization, cost reduction, and heightened overall efficiency. \n",
    "        Your job is to write a cold email to the client regarding the job mentioned above describing the capability of Optisol \n",
    "        in fulfilling their needs.\n",
    "        Also add the most relevant ones from the following links to showcase Atliq's portfolio: {link_list}\n",
    "        Remember you are Mohan, BDE at Optisol. \n",
    "        Do not provide a preamble.\n",
    "        ### EMAIL (NO PREAMBLE):\n",
    "        \n",
    "        \"\"\"\n",
    "        )\n",
    "\n",
    "chain_email = prompt_email | llm\n",
    "res = chain_email.invoke({\"job_description\": str(job[0]), \"link_list\": links})\n",
    "print(res.content)\n"
   ]
  },
  {
   "cell_type": "code",
   "execution_count": null,
   "id": "0f067b91-d8f1-4401-b104-32532cc080fb",
   "metadata": {},
   "outputs": [],
   "source": []
  }
 ],
 "metadata": {
  "kernelspec": {
   "display_name": "Python 3 (ipykernel)",
   "language": "python",
   "name": "python3"
  },
  "language_info": {
   "codemirror_mode": {
    "name": "ipython",
    "version": 3
   },
   "file_extension": ".py",
   "mimetype": "text/x-python",
   "name": "python",
   "nbconvert_exporter": "python",
   "pygments_lexer": "ipython3",
   "version": "3.11.7"
  }
 },
 "nbformat": 4,
 "nbformat_minor": 5
}
